{
  "nbformat": 4,
  "nbformat_minor": 0,
  "metadata": {
    "colab": {
      "provenance": [],
      "include_colab_link": true
    },
    "kernelspec": {
      "name": "python3",
      "display_name": "Python 3"
    },
    "language_info": {
      "name": "python"
    }
  },
  "cells": [
    {
      "cell_type": "markdown",
      "metadata": {
        "id": "view-in-github",
        "colab_type": "text"
      },
      "source": [
        "<a href=\"https://colab.research.google.com/github/HanamDavid/visual_computing/blob/main/2025-04-15_taller1_transformaciones/python/taller1_main.ipynb\" target=\"_parent\"><img src=\"https://colab.research.google.com/assets/colab-badge.svg\" alt=\"Open In Colab\"/></a>"
      ]
    },
    {
      "cell_type": "markdown",
      "source": [
        "# **Imports and Images**"
      ],
      "metadata": {
        "id": "H6osMUhLulGe"
      }
    },
    {
      "cell_type": "code",
      "execution_count": 3,
      "metadata": {
        "id": "AXOHFu2dqEmQ"
      },
      "outputs": [],
      "source": [
        "import numpy as np\n",
        "from matplotlib import pyplot as plt\n",
        "from google.colab import files\n",
        "import imageio as iio"
      ]
    },
    {
      "cell_type": "markdown",
      "source": [
        "## Upload Personal Image"
      ],
      "metadata": {
        "id": "sdZ3-eFi1QkO"
      }
    },
    {
      "cell_type": "code",
      "source": [
        "#\n"
      ],
      "metadata": {
        "id": "1UDN_ctawXGr",
        "outputId": "76f6807e-54d0-4a79-8d30-c7ff77c6dfcb",
        "colab": {
          "base_uri": "https://localhost:8080/",
          "height": 41
        }
      },
      "execution_count": null,
      "outputs": [
        {
          "output_type": "display_data",
          "data": {
            "text/plain": [
              "<IPython.core.display.HTML object>"
            ],
            "text/html": [
              "\n",
              "     <input type=\"file\" id=\"files-d91785e3-ce09-499c-82be-9b052dae3eea\" name=\"files[]\" multiple disabled\n",
              "        style=\"border:none\" />\n",
              "     <output id=\"result-d91785e3-ce09-499c-82be-9b052dae3eea\">\n",
              "      Upload widget is only available when the cell has been executed in the\n",
              "      current browser session. Please rerun this cell to enable.\n",
              "      </output>\n",
              "      <script>// Copyright 2017 Google LLC\n",
              "//\n",
              "// Licensed under the Apache License, Version 2.0 (the \"License\");\n",
              "// you may not use this file except in compliance with the License.\n",
              "// You may obtain a copy of the License at\n",
              "//\n",
              "//      http://www.apache.org/licenses/LICENSE-2.0\n",
              "//\n",
              "// Unless required by applicable law or agreed to in writing, software\n",
              "// distributed under the License is distributed on an \"AS IS\" BASIS,\n",
              "// WITHOUT WARRANTIES OR CONDITIONS OF ANY KIND, either express or implied.\n",
              "// See the License for the specific language governing permissions and\n",
              "// limitations under the License.\n",
              "\n",
              "/**\n",
              " * @fileoverview Helpers for google.colab Python module.\n",
              " */\n",
              "(function(scope) {\n",
              "function span(text, styleAttributes = {}) {\n",
              "  const element = document.createElement('span');\n",
              "  element.textContent = text;\n",
              "  for (const key of Object.keys(styleAttributes)) {\n",
              "    element.style[key] = styleAttributes[key];\n",
              "  }\n",
              "  return element;\n",
              "}\n",
              "\n",
              "// Max number of bytes which will be uploaded at a time.\n",
              "const MAX_PAYLOAD_SIZE = 100 * 1024;\n",
              "\n",
              "function _uploadFiles(inputId, outputId) {\n",
              "  const steps = uploadFilesStep(inputId, outputId);\n",
              "  const outputElement = document.getElementById(outputId);\n",
              "  // Cache steps on the outputElement to make it available for the next call\n",
              "  // to uploadFilesContinue from Python.\n",
              "  outputElement.steps = steps;\n",
              "\n",
              "  return _uploadFilesContinue(outputId);\n",
              "}\n",
              "\n",
              "// This is roughly an async generator (not supported in the browser yet),\n",
              "// where there are multiple asynchronous steps and the Python side is going\n",
              "// to poll for completion of each step.\n",
              "// This uses a Promise to block the python side on completion of each step,\n",
              "// then passes the result of the previous step as the input to the next step.\n",
              "function _uploadFilesContinue(outputId) {\n",
              "  const outputElement = document.getElementById(outputId);\n",
              "  const steps = outputElement.steps;\n",
              "\n",
              "  const next = steps.next(outputElement.lastPromiseValue);\n",
              "  return Promise.resolve(next.value.promise).then((value) => {\n",
              "    // Cache the last promise value to make it available to the next\n",
              "    // step of the generator.\n",
              "    outputElement.lastPromiseValue = value;\n",
              "    return next.value.response;\n",
              "  });\n",
              "}\n",
              "\n",
              "/**\n",
              " * Generator function which is called between each async step of the upload\n",
              " * process.\n",
              " * @param {string} inputId Element ID of the input file picker element.\n",
              " * @param {string} outputId Element ID of the output display.\n",
              " * @return {!Iterable<!Object>} Iterable of next steps.\n",
              " */\n",
              "function* uploadFilesStep(inputId, outputId) {\n",
              "  const inputElement = document.getElementById(inputId);\n",
              "  inputElement.disabled = false;\n",
              "\n",
              "  const outputElement = document.getElementById(outputId);\n",
              "  outputElement.innerHTML = '';\n",
              "\n",
              "  const pickedPromise = new Promise((resolve) => {\n",
              "    inputElement.addEventListener('change', (e) => {\n",
              "      resolve(e.target.files);\n",
              "    });\n",
              "  });\n",
              "\n",
              "  const cancel = document.createElement('button');\n",
              "  inputElement.parentElement.appendChild(cancel);\n",
              "  cancel.textContent = 'Cancel upload';\n",
              "  const cancelPromise = new Promise((resolve) => {\n",
              "    cancel.onclick = () => {\n",
              "      resolve(null);\n",
              "    };\n",
              "  });\n",
              "\n",
              "  // Wait for the user to pick the files.\n",
              "  const files = yield {\n",
              "    promise: Promise.race([pickedPromise, cancelPromise]),\n",
              "    response: {\n",
              "      action: 'starting',\n",
              "    }\n",
              "  };\n",
              "\n",
              "  cancel.remove();\n",
              "\n",
              "  // Disable the input element since further picks are not allowed.\n",
              "  inputElement.disabled = true;\n",
              "\n",
              "  if (!files) {\n",
              "    return {\n",
              "      response: {\n",
              "        action: 'complete',\n",
              "      }\n",
              "    };\n",
              "  }\n",
              "\n",
              "  for (const file of files) {\n",
              "    const li = document.createElement('li');\n",
              "    li.append(span(file.name, {fontWeight: 'bold'}));\n",
              "    li.append(span(\n",
              "        `(${file.type || 'n/a'}) - ${file.size} bytes, ` +\n",
              "        `last modified: ${\n",
              "            file.lastModifiedDate ? file.lastModifiedDate.toLocaleDateString() :\n",
              "                                    'n/a'} - `));\n",
              "    const percent = span('0% done');\n",
              "    li.appendChild(percent);\n",
              "\n",
              "    outputElement.appendChild(li);\n",
              "\n",
              "    const fileDataPromise = new Promise((resolve) => {\n",
              "      const reader = new FileReader();\n",
              "      reader.onload = (e) => {\n",
              "        resolve(e.target.result);\n",
              "      };\n",
              "      reader.readAsArrayBuffer(file);\n",
              "    });\n",
              "    // Wait for the data to be ready.\n",
              "    let fileData = yield {\n",
              "      promise: fileDataPromise,\n",
              "      response: {\n",
              "        action: 'continue',\n",
              "      }\n",
              "    };\n",
              "\n",
              "    // Use a chunked sending to avoid message size limits. See b/62115660.\n",
              "    let position = 0;\n",
              "    do {\n",
              "      const length = Math.min(fileData.byteLength - position, MAX_PAYLOAD_SIZE);\n",
              "      const chunk = new Uint8Array(fileData, position, length);\n",
              "      position += length;\n",
              "\n",
              "      const base64 = btoa(String.fromCharCode.apply(null, chunk));\n",
              "      yield {\n",
              "        response: {\n",
              "          action: 'append',\n",
              "          file: file.name,\n",
              "          data: base64,\n",
              "        },\n",
              "      };\n",
              "\n",
              "      let percentDone = fileData.byteLength === 0 ?\n",
              "          100 :\n",
              "          Math.round((position / fileData.byteLength) * 100);\n",
              "      percent.textContent = `${percentDone}% done`;\n",
              "\n",
              "    } while (position < fileData.byteLength);\n",
              "  }\n",
              "\n",
              "  // All done.\n",
              "  yield {\n",
              "    response: {\n",
              "      action: 'complete',\n",
              "    }\n",
              "  };\n",
              "}\n",
              "\n",
              "scope.google = scope.google || {};\n",
              "scope.google.colab = scope.google.colab || {};\n",
              "scope.google.colab._files = {\n",
              "  _uploadFiles,\n",
              "  _uploadFilesContinue,\n",
              "};\n",
              "})(self);\n",
              "</script> "
            ]
          },
          "metadata": {}
        }
      ]
    },
    {
      "cell_type": "code",
      "source": [
        "def show_image(image_data):\n",
        "  plt.imshow(image_data)\n",
        "  plt.axis('off') # Ocultar ejes\n",
        "  plt.show()\n",
        "show_image(image)"
      ],
      "metadata": {
        "id": "qVHE_DTP7j1A",
        "outputId": "ea8f4c51-faad-4cef-dc08-96da2b6ade36",
        "colab": {
          "base_uri": "https://localhost:8080/",
          "height": 406
        }
      },
      "execution_count": 5,
      "outputs": [
        {
          "output_type": "display_data",
          "data": {
            "text/plain": [
              "<Figure size 640x480 with 1 Axes>"
            ],
            "image/png": "[encoded data removed]"
          },
          "metadata": {}
        }
      ]
    },
    {
      "cell_type": "markdown",
      "source": [
        "# **Functions**"
      ],
      "metadata": {
        "id": "Q7Opk0xuwwAb"
      }
    },
    {
      "cell_type": "code",
      "source": [
        "import numpy as np\n",
        "import matplotlib.pyplot as plt\n",
        "import matplotlib.animation as animation\n",
        "import imageio\n",
        "\n",
        "def translation(image, y_trans=0, x_trans=0):\n",
        "  height, width, channels = image.shape\n",
        "  translated_image = np.zeros_like(image)\n",
        "  for idx_row in range(height):\n",
        "    for idx_col in range(width):\n",
        "      value = image[idx_row, idx_col]\n",
        "      new_row=idx_row+y_trans\n",
        "      new_col=idx_col+x_trans\n",
        "      if 0 <= new_row < height and 0 <= new_col < width:\n",
        "                translated_image[new_row, new_col] = value\n",
        "  return translated_image\n",
        "\n",
        "def rot(image, degree):\n",
        "    \"\"\"Aplica una rotación a la imagen.\"\"\"\n",
        "    height, width, channels = image.shape\n",
        "    rotated_image = np.zeros_like(image)\n",
        "    rad = np.deg2rad(degree)\n",
        "    cos_theta = np.cos(rad)\n",
        "    sin_theta = np.sin(rad)\n",
        "    center_x, center_y = width // 2, height // 2\n",
        "\n",
        "    for y in range(height):\n",
        "        for x in range(width):\n",
        "            offset_x = x - center_x\n",
        "            offset_y = y - center_y\n",
        "            new_x = int(offset_x * cos_theta - offset_y * sin_theta + center_x)\n",
        "            new_y = int(offset_x * sin_theta + offset_y * cos_theta + center_y)\n",
        "            if 0 <= new_y < height and 0 <= new_x < width:\n",
        "                rotated_image[y, x] = image[new_y, new_x]\n",
        "    return rotated_image\n",
        "\n",
        "def scale(image, value):\n",
        "    \"\"\"Aplica un escalado a la imagen.\"\"\"\n",
        "    height, width, channels = image.shape\n",
        "    new_height = int(height * value)\n",
        "    new_width = int(width * value)\n",
        "    scaled_image = np.zeros((new_height, new_width, channels), dtype=image.dtype)\n",
        "    for y_new in range(new_height):\n",
        "        for x_new in range(new_width):\n",
        "            y_orig = int(y_new / value)\n",
        "            x_orig = int(x_new / value)\n",
        "            if 0 <= y_orig < height and 0 <= x_orig < width:\n",
        "                scaled_image[y_new, x_new] = image[y_orig, x_orig]\n",
        "    return scaled_image\n",
        "\n",
        "def create_animated_gif(image, filename=\"animated_transformation.gif\", duration=0.1):\n",
        "    \"\"\"Crea un GIF animado aplicando transformaciones a la imagen.\"\"\"\n",
        "    frames = []\n",
        "    num_frames = 30  # Número de fotogramas en la animación\n",
        "    original_height, original_width, _ = image.shape\n",
        "\n",
        "    for i in range(num_frames):\n",
        "        t = i / (num_frames - 1)  # Valor de tiempo normalizado entre 0 y 1\n",
        "\n",
        "        # Aplicar transformaciones\n",
        "        translated_frame = translation(image, int(-10 * t), int(-5 * t))\n",
        "        rotated_frame = rot(translated_frame, 360 * t)\n",
        "        scaled_frame_temp = scale(rotated_frame, 1 + 0.5 * t)\n",
        "\n",
        "        # Resize the scaled frame back to the original dimensions\n",
        "        from PIL import Image\n",
        "        scaled_pil = Image.fromarray(scaled_frame_temp.astype(np.uint8))\n",
        "        resized_pil = scaled_pil.resize((original_width, original_height), Image.Resampling.LANCZOS)\n",
        "        scaled_frame = np.array(resized_pil)\n",
        "\n",
        "        frames.append(scaled_frame)\n",
        "        print(f\"Generando fotograma {i+1}/{num_frames}\", end='\\r')\n",
        "\n",
        "    print(\"\\nGenerando GIF...\")\n",
        "    imageio.mimsave(filename, [frame.astype(np.uint8) for frame in frames], duration=duration)\n",
        "    print(f\"GIF animado guardado como {filename}\")\n",
        "\n",
        "show_image(image)\n",
        "new_image=translation(image,-5,-10)\n",
        "show_image(new_image)\n",
        "new_image=scale(image,2)\n",
        "show_image(new_image)\n",
        "new_image=rot(image,45)\n",
        "show_image(new_image)\n",
        "create_animated_gif(image, duration=0.05)"
      ],
      "metadata": {
        "id": "zEmEt6USwd8K"
      },
      "execution_count": null,
      "outputs": []
    },
    {
      "cell_type": "markdown",
      "source": [
        "# Main\n",
        "Please first upload or make an image"
      ],
      "metadata": {
        "id": "43qwWF4I1tbW"
      }
    }
  ]
}